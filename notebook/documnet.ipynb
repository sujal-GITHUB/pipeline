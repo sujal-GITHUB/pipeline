{
 "cells": [
  {
   "cell_type": "markdown",
   "id": "3560c1d9",
   "metadata": {},
   "source": [
    "### Data Ingestion"
   ]
  },
  {
   "cell_type": "code",
   "execution_count": 2,
   "id": "469be368",
   "metadata": {},
   "outputs": [],
   "source": [
    "### Document Structure\n",
    "\n",
    "from langchain_core.documents import Document"
   ]
  },
  {
   "cell_type": "code",
   "execution_count": 3,
   "id": "cf69e0fd",
   "metadata": {},
   "outputs": [
    {
     "data": {
      "text/plain": [
       "Document(metadata={'source': 'exmaple.txt', 'pages': 1, 'author': 'Sujal', 'date': '15-10-2025'}, page_content='This is the content of the file im using to create a RAG')"
      ]
     },
     "execution_count": 3,
     "metadata": {},
     "output_type": "execute_result"
    }
   ],
   "source": [
    "doc = Document(\n",
    "    page_content=\"This is the content of the file im using to create a RAG\",\n",
    "    metadata={\n",
    "        \"source\": \"exmaple.txt\",\n",
    "        \"pages\":1,\n",
    "        \"author\":\"Sujal\",\n",
    "        \"date\":\"15-10-2025\"\n",
    "        },\n",
    ")\n",
    "\n",
    "doc"
   ]
  },
  {
   "cell_type": "code",
   "execution_count": 4,
   "id": "6c79c049",
   "metadata": {},
   "outputs": [],
   "source": [
    "### Create a simple text file\n",
    "\n",
    "import os\n",
    "os.makedirs(\"../data/text_files\", exist_ok=True)"
   ]
  },
  {
   "cell_type": "code",
   "execution_count": 9,
   "id": "fdd4c63f",
   "metadata": {},
   "outputs": [
    {
     "name": "stdout",
     "output_type": "stream",
     "text": [
      "Sample text files created.\n"
     ]
    }
   ],
   "source": [
    "sample_text = {\n",
    "    \"../data/text_files/example1.txt\": \"\"\"\n",
    "        Python is a high-level, interpreted programming language known for its simplicity, readability, and versatility. \n",
    "        Created by Guido van Rossum and first released in 1991, Python emphasizes clear syntax and code readability, making it an ideal choice for beginners as well as professionals. \n",
    "        It supports multiple programming paradigms, including object-oriented, procedural, and functional programming, and has an extensive standard library that simplifies many common programming tasks.\n",
    "\n",
    "        Today, Python is widely used across diverse fields such as web development, data science, artificial intelligence, machine learning, automation, and scientific computing. \n",
    "        Its large community and ecosystem of powerful frameworks — like Django, Flask, NumPy, and TensorFlow — make it one of the most popular and influential languages in modern software development.\n",
    "\n",
    "    \"\"\",\n",
    "}\n",
    "\n",
    "for file_path, content in sample_text.items():\n",
    "    with open(file_path, \"w\", encoding='utf-8') as f:\n",
    "        f.write(content)\n",
    "        \n",
    "print(\"Sample text files created.\")"
   ]
  },
  {
   "cell_type": "code",
   "execution_count": 10,
   "id": "3ea76f95",
   "metadata": {},
   "outputs": [
    {
     "data": {
      "text/plain": [
       "[Document(metadata={'source': '../data/text_files/example1.txt'}, page_content='\\n        Python is a high-level, interpreted programming language known for its simplicity, readability, and versatility. \\n        Created by Guido van Rossum and first released in 1991, Python emphasizes clear syntax and code readability, making it an ideal choice for beginners as well as professionals. \\n        It supports multiple programming paradigms, including object-oriented, procedural, and functional programming, and has an extensive standard library that simplifies many common programming tasks.\\n\\n        Today, Python is widely used across diverse fields such as web development, data science, artificial intelligence, machine learning, automation, and scientific computing. \\n        Its large community and ecosystem of powerful frameworks — like Django, Flask, NumPy, and TensorFlow — make it one of the most popular and influential languages in modern software development.\\n\\n    ')]"
      ]
     },
     "execution_count": 10,
     "metadata": {},
     "output_type": "execute_result"
    }
   ],
   "source": [
    "### Textloader\n",
    "\n",
    "from langchain_community.document_loaders import TextLoader\n",
    "\n",
    "loader = TextLoader(\"../data/text_files/example1.txt\", encoding=\"utf8\")\n",
    "document = loader.load()\n",
    "\n",
    "document"
   ]
  },
  {
   "cell_type": "code",
   "execution_count": 13,
   "id": "11c68d84",
   "metadata": {},
   "outputs": [
    {
     "data": {
      "text/plain": [
       "[Document(metadata={'producer': 'pdfTeX-1.40.26', 'creator': 'LaTeX with hyperref', 'creationdate': '2025-09-08T15:45:44+00:00', 'source': '..\\\\data\\\\pdf_files\\\\Resume.pdf', 'file_path': '..\\\\data\\\\pdf_files\\\\Resume.pdf', 'total_pages': 1, 'format': 'PDF 1.5', 'title': '', 'author': '', 'subject': '', 'keywords': '', 'moddate': '2025-09-08T15:45:44+00:00', 'trapped': '', 'modDate': 'D:20250908154544Z', 'creationDate': 'D:20250908154544Z', 'page': 0}, page_content='Sujal Kumar\\nEmail: sujal21102004@gmail.com\\nLinkedIn: sujal-kumar-38544b229\\nGithub: sujal-GITHUB\\nMobile: +91-9115664773\\nPortfolio: sujal.works\\nEducation\\n• Dr. B. R. Ambedkar National Institute of Technology\\nJalandhar, India\\nBachelor of Technology - Information Technology\\n2022 - 2026\\nCoursework: Operating Systems, Data Structures Algorithms, Machine Learning, Computer Networks, Database Management\\nTechnical Skills\\n• Programming Languages: C++, JavaScript, Python, C, TypeScript, SQL\\n• Frameworks & Libraries: React.js, Next.js, Node.js, Express.js, FastAPI, Tailwind CSS, Redux, Flask, Tensorflow\\n• Tools & Platforms: Git, GitHub, GitLab, Figma, Anaconda, Postman, Jest, Notion, Prisma\\n• Databases: MySQL, SQLite, MongoDB, DynamoDB, PostgreSQL, Redis\\n• DevOps & Cloud: Docker, Kubernetes, Ansible, CI/CD pipelines, AWS (EC2, S3, Lambda), Terraform, Jenkins\\n• Professional Skills: Agile Methodology, Technical Leadership, Project Management, Cross-functional Collaboration\\nWork Experience\\n• Gurukul Foundation\\nRemote\\nFrontend Developer\\nJune 2024 - July 2024\\n◦Company’s Website: Engineered a responsive web application using Next.js with strong daily user engagement and\\nhigh mobile responsiveness, while implementing WCAG 2.1 standards.\\n◦Performance Optimization: Initiated code splitting and lazy loading techniques to reduce initial load time, improving\\nuser retention metrics and search engine rankings.\\n• GrapplTech\\nRemote\\nSoftware Development Engineer Intern\\nMay 2024 - June 2024\\n◦Front-End Development: Proposed and implemented a responsive Hero section using React.js and TailwindCSS,\\nenhancing site engagement and reducing bounce rate.\\n◦Frontend Optimization: Leveraged performance analysis tools to identify and fix rendering bottlenecks, leading to\\nfaster page load times and improved Core Web Vitals metrics.\\nTechnical Projects\\n• Routeify W\\nReact.js, Node.js, Express.js, Socket.io, MongoDB, TailwindCSS, Razorpay\\n◦Developed a scalable ride-hailing platform with real-time location tracking, utilizing WebSockets for live updates\\nand geolocation APIs for route optimization.\\n◦Combined MongoDB schema design with geospatial indexing to optimize driver-rider matching algorithms,\\nsupporting 800+ concurrent users with sub-second response times.\\n◦Built responsive mobile-first interface with Redux state management, facilitating seamless ride booking, driver\\nassignment, and secure payment processing workflows.\\n• ZingGuru W\\nMERN, TailwindCSS, FastAPI, Agentic AI, MongoDB, RAG-based LLM\\n◦Developed a one-stop, AI-powered learning platform during HackTU 6.0, featuring adaptive study paths, gamified\\nengagement, along with career-focused learning and resources.\\n◦Integrated a Retrieval-Augmented Generation (RAG) based LLM for personalized career path generation,\\nmultilingual video summarizing and test generation, along with a personlaized AI assistant.\\n◦Engineered a centralized learner studio to unify course links from multiple platforms (Coursera, Udemy, etc.),\\nenabling seamless progress tracking and content access in a single interface.\\nAchievements & Leadership\\n• HackTU 6.0 Hackathon: Secured 2nd Runner-up position at HackTU 6.0, competing against 200+ teams from all over\\nIndia at Thapar Institute of Engineering & Technology, Patiala. W\\n• Competitive Programming: Solved 900+ DSA and SQL problems across platforms including CodeStudio, GeeksForGeeks,\\nCodeforces, AtCoder, CodeChef and LeetCode with 1800+ rating on LeetCode and Specialist (1400+) on CodeForces. W\\n• GDGC - Google Developer Groups: Served as a core member of the Web Team. Played a key role in organizing HackMol\\n6.0 at NIT Jalandhar, coordinating tech infrastructure and ensuring seamless participant experience.\\n• Research: Conducted research on applying Hadoop for scalable data processing and improved recommendations in hotel\\nbooking platforms.'),\n",
       " Document(metadata={'producer': 'pdfTeX-1.40.26', 'creator': 'LaTeX with hyperref', 'creationdate': '2025-10-13T12:54:36+00:00', 'source': '..\\\\data\\\\pdf_files\\\\Resume_Sujal.pdf', 'file_path': '..\\\\data\\\\pdf_files\\\\Resume_Sujal.pdf', 'total_pages': 1, 'format': 'PDF 1.5', 'title': '', 'author': '', 'subject': '', 'keywords': '', 'moddate': '2025-10-13T12:54:36+00:00', 'trapped': '', 'modDate': 'D:20251013125436Z', 'creationDate': 'D:20251013125436Z', 'page': 0}, page_content='Sujal Kumar\\nsujal21102004@gmail.com | sujal-GITHUB | LinkedIn | sujal.works | +91-9115664773\\nEducation\\n• Dr. B. R. Ambedkar National Institute of Technology Jalandhar\\nIndia\\nBachelor of Technology - Information Technology\\n2022 - 2026\\nCoursework: Operating Systems, Data Structures & Algorithms, Machine Learning, Computer Networks, Database Management\\n• Bhartiya Vidya Mandir Sr. Sec. School (U.S.N.) , Ludhiana\\nIndia\\nHigh School (Senior Secondary Education)\\n2020 - 2022\\nTechnical Skills\\n• Programming Languages: C++, JavaScript, Python, C, TypeScript, SQL\\n• Frameworks & Libraries: React.js, Next.js, Node.js, Express.js, FastAPI, Tailwind CSS, Redux, Flask, Tensorflow\\n• Tools & Platforms: Git, GitHub, GitLab, Figma, Anaconda, Postman, Jest, Notion, Prisma, n8n\\n• Databases: MySQL, SQLite, MongoDB, DynamoDB, PostgreSQL, Redis\\n• DevOps & Cloud: Docker, Kubernetes, Ansible, CI/CD pipelines, AWS (EC2, S3, Lambda), Terraform, Jenkins\\n• Professional Skills: Agile Methodology, Technical Leadership, Project Management, Cross-functional Collaboration\\nWork Experience\\n• Gurukul Foundation\\nRemote\\nFrontend Developer\\nNov 2024 - Dec 2024\\n◦Web Application Development: Developed a feature-rich web application with Next.js, achieving a 95% Lighthouse\\nscore for mobile-first design and ensuring full WCAG 2.1 accessibility compliance.\\n◦Performance Tuning: Improved user retention by 15% by implementing code splitting and lazy loading, which\\ndecreased initial page load time by over 30%.\\n• GrapplTech\\nRemote\\nSoftware Development Engineer Intern\\nMay 2024 - Nov 2024\\n◦UI Development: Revamped the main landing page’s Hero section using React.js and TailwindCSS, leading to a 20%\\nreduction in bounce rate and a 10% increase in average user session duration.\\n◦Frontend Optimization: Resolved critical rendering bottlenecks using performance analysis tools, cutting page load\\ntimes by 40% and boosting Core Web Vitals scores into the green.\\nTechnical Projects\\n• Routeify W\\nReact.js, Node.js, Express.js, Socket.io, MongoDB, TailwindCSS, Razorpay\\n◦Delivered a full-stack ride-hailing platform with real-time GPS tracking via WebSockets and optimized routing\\nusing geolocation APIs.\\n◦Engineered a MongoDB schema with geospatial indexing that matched drivers to riders in under 500ms,\\nsuccessfully scaling to support 800+ concurrent users.\\n◦Built a responsive Redux-based interface that simplified the booking flow into a 3-step process, integrating a\\npayment gateway with a 99.9% transaction success rate.\\n• ZingGuru W\\nMERN, TailwindCSS, FastAPI, Agentic AI, MongoDB, RAG-based LLM\\n◦Won 2nd Runner-up at HackTU 6.0 by creating an AI learning hub with adaptive study paths and gamified\\nmodules to enhance user engagement.\\n◦Deployed a Retrieval-Augmented Generation (RAG) LLM to provide personalized career guidance and generate\\nvideo summaries across 5+ languages.\\n◦Architected a centralized studio to aggregate content from platforms like Coursera and Udemy, cutting content\\nsearch time for users by an estimated 50%.\\nAchievements & Leadership\\n• HackTU 6.0 Hackathon: Secured 2nd Runner-up among 200+ teams in a 48-hour national hackathon at Thapar Institute of\\nEngineering & Technology. W\\n• Competitive Programming: Solved 900+ DSA and SQL problems, achieving a Specialist (1400+) rank on CodeForces and\\nplacing in the top 10% of users on LeetCode (1800+ rating). W\\n• Google Developer Groups: Managed web infrastructure deployment for HackMol 6.0 as a core team member, supporting\\nover 500 participants with zero downtime during the 48-hour event.\\n• Data Processing Research: Led research into applying Hadoop for scalable data processing, developing a model that\\nimproved recommendation accuracy in hotel booking platforms by 12%.'),\n",
       " Document(metadata={'producer': 'pdfTeX-1.40.26', 'creator': 'LaTeX with hyperref', 'creationdate': '2025-04-17T21:21:14+00:00', 'source': '..\\\\data\\\\pdf_files\\\\SaniaMeraj.pdf', 'file_path': '..\\\\data\\\\pdf_files\\\\SaniaMeraj.pdf', 'total_pages': 1, 'format': 'PDF 1.5', 'title': '', 'author': '', 'subject': '', 'keywords': '', 'moddate': '2025-04-17T21:21:14+00:00', 'trapped': '', 'modDate': 'D:20250417212114Z', 'creationDate': 'D:20250417212114Z', 'page': 0}, page_content='Sania Meraj\\nEmail: saniameraj23@gmail.com\\nLinkedIn: linkedin.com/SANIAMERAJ23\\nMobile: +91-8051747165\\nGithub: github.com/SANIAMERAJ23\\nEducation\\n• Dr B R Ambedkar National Institute of Technology Jalandhar\\nPunjab, India\\nBachelor of Technology, Information Technology (CGPA : 7.49/10)\\nNov. 2022 – Present\\n• St. Karen’s High School\\nBihar, India\\nCBSE (Percentage : 90.2)\\n2022\\nSkills Summary\\n• Languages:\\nC++, C, JavaScript, SQL, Python (Basic)\\n• Libraries:\\nReact, Express, TailwindCSS\\n• Tools:\\nGitHub, VSCode, MongoDB Atlas Cloud\\n• Databases:\\nMySQL, MongoDB\\n• Courses:\\nData Structures and Algorithms, OOPs, DBMS, Operating System, Networking\\nProjects\\n• SnapStudy — HTML, CSS, JavaScript:\\n◦Designed and developed a Chrome extension that streamlines the process of taking and saving screenshots while watching\\nYouTube videos.\\n◦Automation and Productivity: Automated the entire screenshot process, allowing users to focus on content without\\ndisruptions, boosting productivity during video-watching sessions.\\n◦Cross-Platform Functionality: Enabled quick screenshot captures with keyboard shortcuts for both Mac and Windows\\nusers.\\n• StepUp – E-commerce Shoe Store (MERN Stack, Stripe):\\n◦Built a responsive, single-page e-commerce website for shoe retail, featuring product filtering, secure payments, and\\nreal-time order tracking.\\n◦Dynamic UI & Routing: Developed an interactive front-end using React and React Router, with smooth cart and\\ncheckout workflows.\\n◦Secure Payments & Admin Control: Integrated Stripe for secure payment processing and built an admin dashboard to\\nmanage products and orders.\\n◦Backend & Database Optimization: Designed RESTful APIs with Node.js and Express; optimized MongoDB data models\\nfor scalability and performance.\\n• SlogZ — React.js, Appwrite, TinyMCE, Redux:\\n◦Designed and developed a dynamic blog web app supporting rich-text editing, user authentication, and full CRUD\\noperations.\\n◦Rich Content Management: Integrated TinyMCE for intuitive rich-text blog post creation and editing.\\n◦State Handling & User Authentication: Implemented Redux for global state management and Appwrite for secure user\\nauthentication and backend services.\\n◦Clean Architecture: Structured the project using modular components, routes, and service layers to ensure\\nmaintainability and scalability.\\nAchievements\\n• JEE Main: Achieved an impressive 96.97 percentile, placing in the top tier of candidates nationwide; demonstrated strong\\nanalytical and problem-solving abilities in a highly competitive exam.\\n• Certified Programmer: Achieved certifications in C++, Data Structures, and Algorithms.\\n• Coding Platforms: Solved 400+ problems across Coding Ninjas, GeeksforGeeks, and LeetCode with a contest rating of\\n1400+.\\nCertificates\\n• Mastering Data Structures and Algorithms using C and C++ (Udemy): Focused on technical implementation and\\nanalysis of data structures and algorithms with real-world applications.\\n• Learn C++ Programming (Udemy): Covered fundamentals to advanced concepts of C++, including C++11, with\\nhands-on demos, real-life examples, and a capstone student project.\\n• The Web Developer BootCamp (Udemy): Completed 60+ hours of full-stack web development training, including 10+\\nhours on React (JSX, hooks, state, Vite, and Material UI).')]"
      ]
     },
     "execution_count": 13,
     "metadata": {},
     "output_type": "execute_result"
    }
   ],
   "source": [
    "## Pdf Loader\n",
    "\n",
    "from langchain_community.document_loaders import PyMuPDFLoader\n",
    "from langchain_community.document_loaders import DirectoryLoader\n",
    "\n",
    "dir_loader = DirectoryLoader(\n",
    "    \"../data/pdf_files\", \n",
    "    glob=\"**/*.pdf\", \n",
    "    loader_cls=PyMuPDFLoader,\n",
    "    show_progress=False\n",
    ")\n",
    "   \n",
    "pdf_docs = dir_loader.load()\n",
    "pdf_docs     "
   ]
  },
  {
   "cell_type": "markdown",
   "id": "627291c0",
   "metadata": {},
   "source": [
    "### Embedding and Vector store DB"
   ]
  },
  {
   "cell_type": "code",
   "execution_count": 15,
   "id": "f47e4b70",
   "metadata": {},
   "outputs": [
    {
     "name": "stderr",
     "output_type": "stream",
     "text": [
      "d:\\Work\\Learning\\pipeline\\.venv\\Lib\\site-packages\\tqdm\\auto.py:21: TqdmWarning: IProgress not found. Please update jupyter and ipywidgets. See https://ipywidgets.readthedocs.io/en/stable/user_install.html\n",
      "  from .autonotebook import tqdm as notebook_tqdm\n"
     ]
    }
   ],
   "source": [
    "import numpy as np\n",
    "from sentence_transformers import SentenceTransformer\n",
    "import chromadb\n",
    "from chromadb.config import Settings\n",
    "import uuid\n",
    "from typing import List, Dict, Any, Tuple\n",
    "from sklearn.metrics.pairwise import cosine_similarity"
   ]
  },
  {
   "cell_type": "code",
   "execution_count": null,
   "id": "c1dbe144",
   "metadata": {},
   "outputs": [],
   "source": [
    "class EmbeddingManager:\n",
    "    \"\"\"Handles embedding generation and storage using ChromaDB and SentenceTransformer.\"\"\"\n",
    "    \n",
    "    def __init__(self, model_name: str = \"all-MiniLM-L6-v2\"):\n",
    "        '''\n",
    "        Initializes the EmbeddingManager with:\n",
    "        Model name : Hugging Face model name for sentence embeddings\n",
    "        '''\n",
    "        \n",
    "        self.model_name = model_name\n",
    "        self.model = None\n",
    "        self._load_model()\n",
    "    \n",
    "    def _load_model(self):\n",
    "        \"\"\"Loads the SentenceTransformer model.\"\"\"\n",
    "        \n",
    "        try:\n",
    "            print(f\"Loading model: {self.model_name}\")\n",
    "            self.model = SentenceTransformer(self.model_name)\n",
    "            print(\"Model loaded successfully with dimension:\", self.model.get_sentence_embedding_dimension())\n",
    "        except Exception as e:\n",
    "            print(f\"Error loading model: {e}\")\n",
    "            raise\n",
    "        \n",
    "    def generate_embedding(self, text: str) -> np.ndarray:\n",
    "        \"\"\"Generates an embedding for the given text.\"\"\"\n",
    "        \n",
    "        if not self.model:\n",
    "            raise ValueError(\"Model not loaded.\")\n",
    "        \n",
    "        print(f\"Generating embedding for {len(texts)} texts...\")\n",
    "        embeddings = self.model.encode(texts, show_progress_bar=True)\n",
    "        print(f\"Embeddings generated with shape: {embeddings.shape}\")\n",
    "        return embeddings\n",
    "    \n",
    "embedder_manager = EmbeddingManager()\n",
    "embedder_manager"
   ]
  }
 ],
 "metadata": {
  "kernelspec": {
   "display_name": "pipeline",
   "language": "python",
   "name": "python3"
  },
  "language_info": {
   "codemirror_mode": {
    "name": "ipython",
    "version": 3
   },
   "file_extension": ".py",
   "mimetype": "text/x-python",
   "name": "python",
   "nbconvert_exporter": "python",
   "pygments_lexer": "ipython3",
   "version": "3.13.1"
  }
 },
 "nbformat": 4,
 "nbformat_minor": 5
}
